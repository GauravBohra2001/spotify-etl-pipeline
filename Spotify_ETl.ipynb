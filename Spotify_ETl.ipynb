{
 "cells": [
  {
   "cell_type": "code",
   "execution_count": null,
   "metadata": {},
   "outputs": [],
   "source": [
    "!pip install spotipy"
   ]
  },
  {
   "cell_type": "code",
   "execution_count": 568,
   "metadata": {},
   "outputs": [],
   "source": [
    "import spotipy\n",
    "from spotipy.oauth2 import SpotifyClientCredentials\n",
    "import pandas as pd"
   ]
  },
  {
   "cell_type": "code",
   "execution_count": 569,
   "metadata": {},
   "outputs": [],
   "source": [
    "#This is used for authentication\n",
    "client_credentials_manager = SpotifyClientCredentials(client_id=\"644c838b645f46ffbe7faf1c925d5bef\", client_secret=\"f4fc39bc85b34c3fb4c6b360efdaecb5\")"
   ]
  },
  {
   "cell_type": "code",
   "execution_count": 570,
   "metadata": {},
   "outputs": [],
   "source": [
    "#This is used to establish a connection with the website \n",
    "sp = spotipy.Spotify(client_credentials_manager = client_credentials_manager)"
   ]
  },
  {
   "cell_type": "code",
   "execution_count": 571,
   "metadata": {},
   "outputs": [],
   "source": [
    "#link for the top 100 songs on the spotify\n",
    "playlist_link = \"https://open.spotify.com/playlist/37i9dQZEVXbNG2KDcFcKOF\""
   ]
  },
  {
   "cell_type": "code",
   "execution_count": 572,
   "metadata": {},
   "outputs": [],
   "source": [
    "#We are intrested in the id because that is used to access the top 100\n",
    "global_fifty_url = playlist_link.split(\"/\")[-1]"
   ]
  },
  {
   "cell_type": "code",
   "execution_count": 573,
   "metadata": {},
   "outputs": [],
   "source": [
    "#Now to extract the data from that playlist\n",
    "data = sp.playlist_tracks(global_fifty_url)"
   ]
  },
  {
   "cell_type": "code",
   "execution_count": 574,
   "metadata": {},
   "outputs": [
    {
     "data": {
      "text/plain": [
       "'Ella Baila Sola'"
      ]
     },
     "execution_count": 574,
     "metadata": {},
     "output_type": "execute_result"
    }
   ],
   "source": [
    "#Extracting the id of the first song\n",
    "data['items'][0]['track']['album']['id']\n",
    "\n",
    "\n",
    "#Extracting the album name of the first song\n",
    "data['items'][0]['track']['album']['name']\n",
    "\n",
    "\n",
    "#Extracting the release_date of the first song\n",
    "data['items'][0]['track']['album']['release_date']\n",
    "\n",
    "\n",
    "#Extracting the total tracks of the first song\n",
    "data['items'][0]['track']['album']['total_tracks']\n",
    "\n",
    "\n",
    "#Extracting the external url of the first song\n",
    "data['items'][0]['track']['album']['external_urls']['spotify']\n",
    "\n",
    "\n",
    "#Extracting the song name \n",
    "data['items'][0]['track']['name']"
   ]
  },
  {
   "cell_type": "code",
   "execution_count": 575,
   "metadata": {},
   "outputs": [
    {
     "name": "stdout",
     "output_type": "stream",
     "text": [
      "[('Eslabon Armado', 'Peso Pluma'), ('Bizarrap', 'Peso Pluma'), ('Bad Bunny',), ('BTS',), ('Yng Lvcas', 'Peso Pluma'), ('Grupo Frontera', 'Bad Bunny'), ('Miley Cyrus',), ('Dave', 'Central Cee'), ('FIFTY FIFTY',), ('Harry Styles',), ('David Kushner',), ('SZA',), ('Fuerza Regida',), ('Metro Boomin', 'Swae Lee', 'NAV', 'A Boogie Wit da Hoodie'), ('Feid', 'Young Miko'), ('Post Malone', 'Swae Lee'), ('KAROL G', 'Shakira'), ('Sky Rompiendo', 'Feid', 'Myke Towers'), ('Taylor Swift',), ('Rema', 'Selena Gomez'), ('Metro Boomin', 'The Weeknd', '21 Savage'), ('Jimin',), ('Tyler, The Creator', 'Kali Uchis'), ('Arctic Monkeys',), ('LIT killah', 'Tiago PZK', 'Maria Becerra', 'Duki', 'Emilia', 'Rusherking', 'Big One', 'FMK'), ('Metro Boomin', 'Swae Lee', 'Lil Wayne', 'Offset'), ('Junior H', 'Peso Pluma'), ('Taylor Swift',), ('Miley Cyrus',), ('Metro Boomin', 'A$AP Rocky', 'Roisee'), ('ROSALÍA', 'Rauw Alejandro'), ('The Weeknd', 'Ariana Grande'), ('Kodak Black', 'NLE Choppa', 'Jimin', 'JVKE', 'Muni Long', 'Fast & Furious: The Fast Saga'), ('Morgan Wallen',), ('David Guetta', 'Bebe Rexha'), ('Yandel', 'Feid'), ('The Weeknd',), ('Peso Pluma', 'Natanael Cano'), ('The Weeknd', 'Playboi Carti', 'Madonna'), ('OneRepublic',), ('The Weeknd', 'Daft Punk'), ('Kali Uchis',), ('DENNIS', 'MC Kevin o Chris'), ('PinkPantheress', 'Ice Spice'), ('Libianca',), ('Dua Lipa',), ('J Hus', 'Drake'), ('Lil Durk', 'J. Cole'), ('Yahritza Y Su Esencia', 'Grupo Frontera'), ('Tom Odell',)]\n"
     ]
    }
   ],
   "source": [
    "#This part is getting all the artist for a particular song\n",
    "len_artist = []\n",
    "artist_name = []\n",
    "all_artist = []\n",
    "artist = []\n",
    "for i in data['items']:\n",
    "    len_artist.append(len(i['track']['artists']))\n",
    "    artist_name.append(i['track']['artists'])\n",
    "\n",
    "\n",
    "for i in range(0, len(len_artist)):\n",
    "    if len_artist[i] == 1:\n",
    "        all_artist.append(artist_name[i][0]['name'])\n",
    "    else:\n",
    "        for j in range(0,len_artist[i]):\n",
    "            all_artist.append(artist_name[i][j]['name'])\n",
    "            \n",
    "\n",
    "start_index = 0\n",
    "for length in len_artist:\n",
    "    end_index = start_index + length\n",
    "    elements = all_artist[start_index:end_index]\n",
    "    start_index = end_index\n",
    "    artist.append((tuple(elements)))\n",
    "print(artist)"
   ]
  },
  {
   "cell_type": "code",
   "execution_count": 576,
   "metadata": {},
   "outputs": [],
   "source": [
    "album_data = []\n",
    "for i, row in enumerate(data['items']):\n",
    "    id = row['track']['album']['id']\n",
    "    album_name = row['track']['album']['name']\n",
    "    release_date = row['track']['album']['release_date']\n",
    "    total_tracks = row['track']['album']['total_tracks']\n",
    "    external_url = row['track']['album']['external_urls']['spotify']\n",
    "    song_name = row['track']['name']\n",
    "    artist_name = artist[i] if i < len(artist) else None\n",
    "\n",
    "    # Creating a dictionary\n",
    "    album_element = {'id': id, 'album_name': album_name, 'release_date': release_date, 'total_tracks': total_tracks,\n",
    "                     'external_url': external_url, 'song_name': song_name, 'artist_name': artist_name}\n",
    "    album_data.append(album_element)"
   ]
  },
  {
   "cell_type": "code",
   "execution_count": 577,
   "metadata": {},
   "outputs": [
    {
     "data": {
      "text/html": [
       "<div>\n",
       "<style scoped>\n",
       "    .dataframe tbody tr th:only-of-type {\n",
       "        vertical-align: middle;\n",
       "    }\n",
       "\n",
       "    .dataframe tbody tr th {\n",
       "        vertical-align: top;\n",
       "    }\n",
       "\n",
       "    .dataframe thead th {\n",
       "        text-align: right;\n",
       "    }\n",
       "</style>\n",
       "<table border=\"1\" class=\"dataframe\">\n",
       "  <thead>\n",
       "    <tr style=\"text-align: right;\">\n",
       "      <th></th>\n",
       "      <th>id</th>\n",
       "      <th>album_name</th>\n",
       "      <th>release_date</th>\n",
       "      <th>total_tracks</th>\n",
       "      <th>external_url</th>\n",
       "      <th>song_name</th>\n",
       "      <th>artist_name</th>\n",
       "    </tr>\n",
       "  </thead>\n",
       "  <tbody>\n",
       "    <tr>\n",
       "      <th>0</th>\n",
       "      <td>5aDEezKnOqyQo0qvTFhpkM</td>\n",
       "      <td>DESVELADO</td>\n",
       "      <td>2023-04-28</td>\n",
       "      <td>16</td>\n",
       "      <td>https://open.spotify.com/album/5aDEezKnOqyQo0q...</td>\n",
       "      <td>Ella Baila Sola</td>\n",
       "      <td>(Eslabon Armado, Peso Pluma)</td>\n",
       "    </tr>\n",
       "    <tr>\n",
       "      <th>1</th>\n",
       "      <td>5dKPhEYBhP8j85HcxQfaw6</td>\n",
       "      <td>Peso Pluma: Bzrp Music Sessions, Vol. 55</td>\n",
       "      <td>2023-06-01</td>\n",
       "      <td>1</td>\n",
       "      <td>https://open.spotify.com/album/5dKPhEYBhP8j85H...</td>\n",
       "      <td>Peso Pluma: Bzrp Music Sessions, Vol. 55</td>\n",
       "      <td>(Bizarrap, Peso Pluma)</td>\n",
       "    </tr>\n",
       "    <tr>\n",
       "      <th>2</th>\n",
       "      <td>5gCcb5fsSb6w5K8SyJrgtB</td>\n",
       "      <td>WHERE SHE GOES</td>\n",
       "      <td>2023-05-18</td>\n",
       "      <td>1</td>\n",
       "      <td>https://open.spotify.com/album/5gCcb5fsSb6w5K8...</td>\n",
       "      <td>WHERE SHE GOES</td>\n",
       "      <td>(Bad Bunny,)</td>\n",
       "    </tr>\n",
       "    <tr>\n",
       "      <th>3</th>\n",
       "      <td>3jeQDa9OFZ6GndLindHx3k</td>\n",
       "      <td>Take Two</td>\n",
       "      <td>2023-06-09</td>\n",
       "      <td>1</td>\n",
       "      <td>https://open.spotify.com/album/3jeQDa9OFZ6GndL...</td>\n",
       "      <td>Take Two</td>\n",
       "      <td>(BTS,)</td>\n",
       "    </tr>\n",
       "    <tr>\n",
       "      <th>4</th>\n",
       "      <td>6aBVGuOUEuX18rHxyDWbti</td>\n",
       "      <td>La Bebe (Remix)</td>\n",
       "      <td>2023-03-17</td>\n",
       "      <td>2</td>\n",
       "      <td>https://open.spotify.com/album/6aBVGuOUEuX18rH...</td>\n",
       "      <td>La Bebe - Remix</td>\n",
       "      <td>(Yng Lvcas, Peso Pluma)</td>\n",
       "    </tr>\n",
       "  </tbody>\n",
       "</table>\n",
       "</div>"
      ],
      "text/plain": [
       "                       id                                album_name  \\\n",
       "0  5aDEezKnOqyQo0qvTFhpkM                                 DESVELADO   \n",
       "1  5dKPhEYBhP8j85HcxQfaw6  Peso Pluma: Bzrp Music Sessions, Vol. 55   \n",
       "2  5gCcb5fsSb6w5K8SyJrgtB                            WHERE SHE GOES   \n",
       "3  3jeQDa9OFZ6GndLindHx3k                                  Take Two   \n",
       "4  6aBVGuOUEuX18rHxyDWbti                           La Bebe (Remix)   \n",
       "\n",
       "  release_date  total_tracks  \\\n",
       "0   2023-04-28            16   \n",
       "1   2023-06-01             1   \n",
       "2   2023-05-18             1   \n",
       "3   2023-06-09             1   \n",
       "4   2023-03-17             2   \n",
       "\n",
       "                                        external_url  \\\n",
       "0  https://open.spotify.com/album/5aDEezKnOqyQo0q...   \n",
       "1  https://open.spotify.com/album/5dKPhEYBhP8j85H...   \n",
       "2  https://open.spotify.com/album/5gCcb5fsSb6w5K8...   \n",
       "3  https://open.spotify.com/album/3jeQDa9OFZ6GndL...   \n",
       "4  https://open.spotify.com/album/6aBVGuOUEuX18rH...   \n",
       "\n",
       "                                  song_name                   artist_name  \n",
       "0                           Ella Baila Sola  (Eslabon Armado, Peso Pluma)  \n",
       "1  Peso Pluma: Bzrp Music Sessions, Vol. 55        (Bizarrap, Peso Pluma)  \n",
       "2                            WHERE SHE GOES                  (Bad Bunny,)  \n",
       "3                                  Take Two                        (BTS,)  \n",
       "4                           La Bebe - Remix       (Yng Lvcas, Peso Pluma)  "
      ]
     },
     "execution_count": 577,
     "metadata": {},
     "output_type": "execute_result"
    }
   ],
   "source": [
    "#Creating Data Frame\n",
    "album_df = pd.DataFrame.from_dict(album_data)\n",
    "album_df.head()"
   ]
  },
  {
   "cell_type": "code",
   "execution_count": 578,
   "metadata": {},
   "outputs": [
    {
     "name": "stdout",
     "output_type": "stream",
     "text": [
      "<class 'pandas.core.frame.DataFrame'>\n",
      "RangeIndex: 50 entries, 0 to 49\n",
      "Data columns (total 7 columns):\n",
      " #   Column        Non-Null Count  Dtype \n",
      "---  ------        --------------  ----- \n",
      " 0   id            50 non-null     object\n",
      " 1   album_name    50 non-null     object\n",
      " 2   release_date  50 non-null     object\n",
      " 3   total_tracks  50 non-null     int64 \n",
      " 4   external_url  50 non-null     object\n",
      " 5   song_name     50 non-null     object\n",
      " 6   artist_name   50 non-null     object\n",
      "dtypes: int64(1), object(6)\n",
      "memory usage: 2.9+ KB\n"
     ]
    }
   ],
   "source": [
    "album_df.info()"
   ]
  },
  {
   "cell_type": "code",
   "execution_count": 579,
   "metadata": {},
   "outputs": [],
   "source": [
    "#Changing the datatype for release_date\n",
    "album_df['release_date'] = pd.to_datetime(album_df['release_date'])"
   ]
  },
  {
   "cell_type": "code",
   "execution_count": null,
   "metadata": {},
   "outputs": [],
   "source": []
  },
  {
   "cell_type": "code",
   "execution_count": null,
   "metadata": {},
   "outputs": [],
   "source": []
  },
  {
   "cell_type": "code",
   "execution_count": null,
   "metadata": {},
   "outputs": [],
   "source": []
  },
  {
   "cell_type": "code",
   "execution_count": null,
   "metadata": {},
   "outputs": [],
   "source": []
  },
  {
   "cell_type": "code",
   "execution_count": null,
   "metadata": {},
   "outputs": [],
   "source": []
  },
  {
   "cell_type": "code",
   "execution_count": null,
   "metadata": {},
   "outputs": [],
   "source": []
  },
  {
   "cell_type": "code",
   "execution_count": null,
   "metadata": {},
   "outputs": [],
   "source": []
  }
 ],
 "metadata": {
  "kernelspec": {
   "display_name": "Python 3",
   "language": "python",
   "name": "python3"
  },
  "language_info": {
   "codemirror_mode": {
    "name": "ipython",
    "version": 3
   },
   "file_extension": ".py",
   "mimetype": "text/x-python",
   "name": "python",
   "nbconvert_exporter": "python",
   "pygments_lexer": "ipython3",
   "version": "3.9.1"
  },
  "varInspector": {
   "cols": {
    "lenName": 16,
    "lenType": 16,
    "lenVar": 40
   },
   "kernels_config": {
    "python": {
     "delete_cmd_postfix": "",
     "delete_cmd_prefix": "del ",
     "library": "var_list.py",
     "varRefreshCmd": "print(var_dic_list())"
    },
    "r": {
     "delete_cmd_postfix": ") ",
     "delete_cmd_prefix": "rm(",
     "library": "var_list.r",
     "varRefreshCmd": "cat(var_dic_list()) "
    }
   },
   "types_to_exclude": [
    "module",
    "function",
    "builtin_function_or_method",
    "instance",
    "_Feature"
   ],
   "window_display": false
  }
 },
 "nbformat": 4,
 "nbformat_minor": 4
}
